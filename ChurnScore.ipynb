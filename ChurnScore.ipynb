{
  "nbformat": 4,
  "nbformat_minor": 0,
  "metadata": {
    "colab": {
      "provenance": [],
      "authorship_tag": "ABX9TyOe6tPmRq8Xt/2XFsdp+sae",
      "include_colab_link": true
    },
    "kernelspec": {
      "name": "python3",
      "display_name": "Python 3"
    },
    "language_info": {
      "name": "python"
    }
  },
  "cells": [
    {
      "cell_type": "markdown",
      "metadata": {
        "id": "view-in-github",
        "colab_type": "text"
      },
      "source": [
        "<a href=\"https://colab.research.google.com/github/jacquesbilombe/CRM-Customers-Churn/blob/main/ChurnScore.ipynb\" target=\"_parent\"><img src=\"https://colab.research.google.com/assets/colab-badge.svg\" alt=\"Open In Colab\"/></a>"
      ]
    },
    {
      "cell_type": "markdown",
      "source": [
        "The dataset for this project can be found on the project's GitHub repository or at [Kaggle](https://www.kaggle.com/datasets/mathchi/churn-for-bank-customers/data). This project serves as a case study for the Data Science and Analytics course at PUC RIO. For more information, please refer to the project README."
      ],
      "metadata": {
        "id": "0CU3XDirxAZi"
      }
    },
    {
      "cell_type": "code",
      "execution_count": null,
      "metadata": {
        "id": "eZqZGQK8vZaL"
      },
      "outputs": [],
      "source": []
    }
  ]
}